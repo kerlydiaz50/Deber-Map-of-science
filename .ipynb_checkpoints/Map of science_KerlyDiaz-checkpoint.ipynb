{
 "cells": [
  {
   "cell_type": "markdown",
   "id": "9a4303b7-c956-4486-aedf-112176ba5f9c",
   "metadata": {},
   "source": [
    "Kerly Jamileth Díaz Solórzano\n",
    "\n",
    "# Map of Science "
   ]
  },
  {
   "cell_type": "code",
   "execution_count": 257,
   "id": "da89c77f-278f-4438-9f03-ff7a7da2517c",
   "metadata": {},
   "outputs": [],
   "source": [
    "# Importar los modulos a utilizar\n",
    "import re\n",
    "import csv"
   ]
  },
  {
   "cell_type": "code",
   "execution_count": 258,
   "id": "f0b8fb50-0ff6-495c-a5ab-acf696665fda",
   "metadata": {},
   "outputs": [],
   "source": [
    "# leer todo el archivo y guardarlo en una cadena \n",
    "with open('./pubmed-peptidesne-set.txt',\"r\", encoding='utf-8-sig') as f:\n",
    "    my_text = f.read()\n",
    "    my_text = re.sub(r'\\n\\s{6}', ' ', my_text)"
   ]
  },
  {
   "cell_type": "code",
   "execution_count": 259,
   "id": "ac47056d-975c-478f-8af4-6d532b2ea702",
   "metadata": {},
   "outputs": [],
   "source": [
    "# Para paises que tenga 1 letra\n",
    "text1 = re.findall(r'^AD |\\,\\s\\w{2,10}[^0-9]\\s\\w{2,10}[^0-9]\\,\\s([A-Z]{1}\\w{2,15}[^0-9])\\.\\n', my_text)\n",
    "text2 = re.findall(r'^AD |\\,\\s\\d{2,10}[^0-9]\\-\\d{2,10}[^0-9]\\,\\s([A-Z]{1}\\w{2,15}[^0-9])\\.\\n', my_text)\n",
    "text3 = re.findall(r'^AD |\\,\\s([A-Z]{1}\\w{2,15}[^0-9])\\.\\s[a-z0-9_\\.-]+@[\\da-z\\.-]+\\.[a-z\\.]{2,6}', my_text)\n",
    "text4 = re.findall(r'^AD |\\,\\s\\d{2,10}[^0-9]\\-\\d{2,10}[^0-9]\\,\\s([A-Z]{1}\\w{2,15}[^0-9])\\.\\s[a-z0-9_\\.-]+@[\\da-z\\.-]+\\.[a-z\\.]{2,6}', my_text)\n",
    "text5 = re.findall(r'^AD |\\,\\s([A-Z]{1}\\w{2,15}[^0-9])\\. Electronic address:', my_text)\n",
    "text6 = re.findall(r'^AD |\\,\\s\\d{2,10}[^0-9]\\-\\d{2,10}[^0-9]\\,\\s([A-Z]{1}\\w{2,15}[^0-9])\\. Electronic address:', my_text)"
   ]
  },
  {
   "cell_type": "code",
   "execution_count": 260,
   "id": "05f40ba4-bb67-4b0b-ae2d-f60674938501",
   "metadata": {},
   "outputs": [],
   "source": [
    "# Para paises que tengas 2 o más letras\n",
    "text7 = re.findall(r'^AD |\\w{2,10}[^0-9]\\,\\s([A-Z]{1}\\w*\\s[A-Z]{1}\\w*[^0-9])\\.\\n', my_text)\n",
    "text8 = re.findall(r'^AD |\\d{2,10}[^0-9]\\,\\s([A-Z]{1}\\w*\\s\\w{2,15}[^0-9])\\.\\n', my_text)\n",
    "text9 = re.findall(r'^AD |\\,\\s([A-Z]{1}\\w*\\s[A-Z]{1}\\w{2,15}[^0-9])\\.\\s[a-z0-9_\\.-]+@[\\da-z\\.-]+\\.[a-z\\.]{2,6}', my_text)\n",
    "text10 = re.findall(r'^AD |\\d{2,10}[^0-9]\\,\\s([A-Z]{1}[a-z]{1}\\w*\\s[A-Z]{1}[a-z]{1}\\w{2,15}[^0-9])\\.\\s[a-z0-9_\\.-]+@[\\da-z\\.-]+\\.[a-z\\.]{2,6}', my_text)\n",
    "text11 = re.findall(r'^AD |\\,\\s([A-Z]{1}[a-z]{1}\\w*\\s[A-Z]{1}[a-z]{1}\\w{2,15}[^0-9])\\. Electronic address:', my_text)\n",
    "text12 = re.findall(r'^AD |\\d{2,10}[^0-9]\\,\\s([A-Z]{1}[a-z]{1}\\w*\\s[A-Z]{1}[a-z]{1}\\w{2,15}[^0-9])\\. Electronic address:', my_text)"
   ]
  },
  {
   "cell_type": "code",
   "execution_count": 261,
   "id": "e43f8faf-2324-4191-9a4a-23b622b72e24",
   "metadata": {
    "tags": []
   },
   "outputs": [],
   "source": [
    "unique_text = list(set(text1+text2+text3+text4+text5+text6+text7+text8+text9+text10+text11+text12))"
   ]
  },
  {
   "cell_type": "code",
   "execution_count": 262,
   "id": "4a3d1d14-4cd2-467c-87bf-28e9a10e5c46",
   "metadata": {},
   "outputs": [],
   "source": [
    "unique_text.sort()"
   ]
  },
  {
   "cell_type": "code",
   "execution_count": 263,
   "id": "8326ffbe-2f17-4dc9-b929-808f0be60173",
   "metadata": {
    "tags": []
   },
   "outputs": [
    {
     "name": "stdout",
     "output_type": "stream",
     "text": [
      "['Argentina', 'Athens Georgia', 'Australia', 'Austria', 'Bangladesh', 'Beijing China', 'Belgium', 'Brazil', 'California', 'Canada', 'Chile', 'China', 'Cuba', 'Cyprus', 'Czech Republic', 'Denmark', 'Deutschland', 'Ecuador', 'Egypt', 'Finland', 'France', 'Germany', 'Greece', 'Hong Kong', 'Hungary', 'IL USA', 'India', 'India ', 'Iran', 'Israel', 'Italia', 'Italy', 'Japan', 'Jordan', 'Korea', 'Luxembourg', 'MA USA', 'MD USA', 'Malaysia', 'Malmö Sweden', 'Maryland', 'Mexico', 'Michigan', 'Missouri', 'México', 'Nevşehir Turkey', 'New Jersey', 'New York', 'New Zealand', 'North Carolina', 'North Dakota', 'Norway', 'PR China', 'Pakistan', 'Poland', 'Pszichiátriai Osztály', 'Rhode Island', 'Russia', 'Saudi Arabia', 'Shanghai China', 'Singapore', 'Slovakia', 'Slovenia', 'South Africa', 'South Korea', 'South Sudan', 'Spain', 'Sweden', 'Switzerland', 'Taiwan', 'Texas', 'Thailand', 'The Netherlands', 'The Netherlands ', 'Turkey', 'Uganda', 'United Kingdom', 'United States']\n"
     ]
    }
   ],
   "source": [
    "a = unique_text\n",
    "print(a)"
   ]
  },
  {
   "cell_type": "code",
   "execution_count": 264,
   "id": "8c566dcf-586b-438d-8c9b-f8261bdb1d7d",
   "metadata": {},
   "outputs": [],
   "source": [
    "b = unique_text"
   ]
  },
  {
   "cell_type": "code",
   "execution_count": 265,
   "id": "62472837-7528-4904-8edd-18d5bcb0c631",
   "metadata": {},
   "outputs": [],
   "source": [
    "# Para remover o eliminar datos que no correspondan a los países\n",
    "b.remove('Athens Georgia')\n",
    "b.remove('California')\n",
    "b.remove('Beijing China')\n",
    "b.remove('Cyprus')\n",
    "b.remove('Malmö Sweden')\n",
    "b.remove('Maryland')\n",
    "b.remove('PR China')\n",
    "b.remove('Pszichiátriai Osztály')\n",
    "b.remove('Rhode Island')"
   ]
  },
  {
   "cell_type": "code",
   "execution_count": 266,
   "id": "bbb48c00-15b9-4963-bb5f-be55956832d7",
   "metadata": {},
   "outputs": [
    {
     "name": "stdout",
     "output_type": "stream",
     "text": [
      "\n",
      "['Argentina', 'Australia', 'Austria', 'Bangladesh', 'Belgium', 'Brazil', 'Canada', 'Chile', 'China', 'Cuba']\n"
     ]
    }
   ],
   "source": [
    "print() \n",
    "print(b[:10])"
   ]
  },
  {
   "cell_type": "code",
   "execution_count": 267,
   "id": "6a9bc0eb-5ea9-439f-bc80-d7f5ca79dc91",
   "metadata": {
    "tags": []
   },
   "outputs": [
    {
     "data": {
      "text/plain": [
       "['Argentina',\n",
       " 'Australia',\n",
       " 'Austria',\n",
       " 'Bangladesh',\n",
       " 'Belgium',\n",
       " 'Brazil',\n",
       " 'Canada',\n",
       " 'Chile',\n",
       " 'China',\n",
       " 'Cuba']"
      ]
     },
     "execution_count": 267,
     "metadata": {},
     "output_type": "execute_result"
    }
   ],
   "source": [
    "unique_text[:10]"
   ]
  },
  {
   "cell_type": "code",
   "execution_count": 268,
   "id": "d15da23f-594f-4916-9ca4-5550fe0b54e6",
   "metadata": {
    "tags": []
   },
   "outputs": [
    {
     "data": {
      "text/plain": [
       "69"
      ]
     },
     "execution_count": 268,
     "metadata": {},
     "output_type": "execute_result"
    }
   ],
   "source": [
    "len(unique_text)"
   ]
  },
  {
   "cell_type": "code",
   "execution_count": 269,
   "id": "f3e23dda-2f09-47dd-a70e-44f9eea1531b",
   "metadata": {},
   "outputs": [],
   "source": [
    "# Importar el paquete pandas\n",
    "import pandas as pd"
   ]
  },
  {
   "cell_type": "code",
   "execution_count": 270,
   "id": "c04c9c25-cfd3-437b-8234-8a0835e36f3f",
   "metadata": {},
   "outputs": [],
   "source": [
    "# Obtención de la tabla correspondiente a las coordenadas de los países\n",
    "data = pd.read_csv(\"countries.csv\")"
   ]
  },
  {
   "cell_type": "code",
   "execution_count": 271,
   "id": "62aa087b-0bbb-44ae-9d15-1c6b588e590b",
   "metadata": {
    "tags": []
   },
   "outputs": [
    {
     "data": {
      "text/html": [
       "<div>\n",
       "<style scoped>\n",
       "    .dataframe tbody tr th:only-of-type {\n",
       "        vertical-align: middle;\n",
       "    }\n",
       "\n",
       "    .dataframe tbody tr th {\n",
       "        vertical-align: top;\n",
       "    }\n",
       "\n",
       "    .dataframe thead th {\n",
       "        text-align: right;\n",
       "    }\n",
       "</style>\n",
       "<table border=\"1\" class=\"dataframe\">\n",
       "  <thead>\n",
       "    <tr style=\"text-align: right;\">\n",
       "      <th></th>\n",
       "      <th>country</th>\n",
       "      <th>latitude</th>\n",
       "      <th>longitude</th>\n",
       "      <th>name</th>\n",
       "    </tr>\n",
       "  </thead>\n",
       "  <tbody>\n",
       "    <tr>\n",
       "      <th>0</th>\n",
       "      <td>AD</td>\n",
       "      <td>42.546245</td>\n",
       "      <td>1.601554</td>\n",
       "      <td>Andorra</td>\n",
       "    </tr>\n",
       "    <tr>\n",
       "      <th>1</th>\n",
       "      <td>AE</td>\n",
       "      <td>23.424076</td>\n",
       "      <td>53.847818</td>\n",
       "      <td>United Arab Emirates</td>\n",
       "    </tr>\n",
       "    <tr>\n",
       "      <th>2</th>\n",
       "      <td>AF</td>\n",
       "      <td>33.939110</td>\n",
       "      <td>67.709953</td>\n",
       "      <td>Afghanistan</td>\n",
       "    </tr>\n",
       "    <tr>\n",
       "      <th>3</th>\n",
       "      <td>AG</td>\n",
       "      <td>17.060816</td>\n",
       "      <td>-61.796428</td>\n",
       "      <td>Antigua and Barbuda</td>\n",
       "    </tr>\n",
       "    <tr>\n",
       "      <th>4</th>\n",
       "      <td>AI</td>\n",
       "      <td>18.220554</td>\n",
       "      <td>-63.068615</td>\n",
       "      <td>Anguilla</td>\n",
       "    </tr>\n",
       "    <tr>\n",
       "      <th>5</th>\n",
       "      <td>AL</td>\n",
       "      <td>41.153332</td>\n",
       "      <td>20.168331</td>\n",
       "      <td>Albania</td>\n",
       "    </tr>\n",
       "    <tr>\n",
       "      <th>6</th>\n",
       "      <td>AM</td>\n",
       "      <td>40.069099</td>\n",
       "      <td>45.038189</td>\n",
       "      <td>Armenia</td>\n",
       "    </tr>\n",
       "    <tr>\n",
       "      <th>7</th>\n",
       "      <td>AN</td>\n",
       "      <td>12.226079</td>\n",
       "      <td>-69.060087</td>\n",
       "      <td>Netherlands Antilles</td>\n",
       "    </tr>\n",
       "    <tr>\n",
       "      <th>8</th>\n",
       "      <td>AO</td>\n",
       "      <td>-11.202692</td>\n",
       "      <td>17.873887</td>\n",
       "      <td>Angola</td>\n",
       "    </tr>\n",
       "    <tr>\n",
       "      <th>9</th>\n",
       "      <td>AQ</td>\n",
       "      <td>-75.250973</td>\n",
       "      <td>-0.071389</td>\n",
       "      <td>Antarctica</td>\n",
       "    </tr>\n",
       "  </tbody>\n",
       "</table>\n",
       "</div>"
      ],
      "text/plain": [
       "  country   latitude  longitude                  name\n",
       "0      AD  42.546245   1.601554               Andorra\n",
       "1      AE  23.424076  53.847818  United Arab Emirates\n",
       "2      AF  33.939110  67.709953           Afghanistan\n",
       "3      AG  17.060816 -61.796428   Antigua and Barbuda\n",
       "4      AI  18.220554 -63.068615              Anguilla\n",
       "5      AL  41.153332  20.168331               Albania\n",
       "6      AM  40.069099  45.038189               Armenia\n",
       "7      AN  12.226079 -69.060087  Netherlands Antilles\n",
       "8      AO -11.202692  17.873887                Angola\n",
       "9      AQ -75.250973  -0.071389            Antarctica"
      ]
     },
     "execution_count": 271,
     "metadata": {},
     "output_type": "execute_result"
    }
   ],
   "source": [
    "data.head(10)"
   ]
  },
  {
   "cell_type": "code",
   "execution_count": 272,
   "id": "8a70e05a-8097-4042-9fdc-3a79942dbd6b",
   "metadata": {},
   "outputs": [],
   "source": [
    "data_nombres = data[data.name.isin(unique_text)]"
   ]
  },
  {
   "cell_type": "code",
   "execution_count": 273,
   "id": "978071e3-7977-408b-94e9-ceb229797487",
   "metadata": {},
   "outputs": [],
   "source": [
    "data_paises = data[data.country.isin(unique_text)]"
   ]
  },
  {
   "cell_type": "code",
   "execution_count": 274,
   "id": "e8258034-1d61-4019-8e55-fd33d02852d7",
   "metadata": {},
   "outputs": [],
   "source": [
    "all_data = pd.concat([data_nombres, data_paises]).drop_duplicates().sort_values('name')"
   ]
  },
  {
   "cell_type": "code",
   "execution_count": 275,
   "id": "91191a27-9364-4b1e-b85a-2015aad748bd",
   "metadata": {},
   "outputs": [
    {
     "data": {
      "text/html": [
       "<div>\n",
       "<style scoped>\n",
       "    .dataframe tbody tr th:only-of-type {\n",
       "        vertical-align: middle;\n",
       "    }\n",
       "\n",
       "    .dataframe tbody tr th {\n",
       "        vertical-align: top;\n",
       "    }\n",
       "\n",
       "    .dataframe thead th {\n",
       "        text-align: right;\n",
       "    }\n",
       "</style>\n",
       "<table border=\"1\" class=\"dataframe\">\n",
       "  <thead>\n",
       "    <tr style=\"text-align: right;\">\n",
       "      <th></th>\n",
       "      <th>country</th>\n",
       "      <th>latitude</th>\n",
       "      <th>longitude</th>\n",
       "      <th>name</th>\n",
       "    </tr>\n",
       "  </thead>\n",
       "  <tbody>\n",
       "    <tr>\n",
       "      <th>10</th>\n",
       "      <td>AR</td>\n",
       "      <td>-38.416097</td>\n",
       "      <td>-63.616672</td>\n",
       "      <td>Argentina</td>\n",
       "    </tr>\n",
       "    <tr>\n",
       "      <th>13</th>\n",
       "      <td>AU</td>\n",
       "      <td>-25.274398</td>\n",
       "      <td>133.775136</td>\n",
       "      <td>Australia</td>\n",
       "    </tr>\n",
       "    <tr>\n",
       "      <th>12</th>\n",
       "      <td>AT</td>\n",
       "      <td>47.516231</td>\n",
       "      <td>14.550072</td>\n",
       "      <td>Austria</td>\n",
       "    </tr>\n",
       "    <tr>\n",
       "      <th>18</th>\n",
       "      <td>BD</td>\n",
       "      <td>23.684994</td>\n",
       "      <td>90.356331</td>\n",
       "      <td>Bangladesh</td>\n",
       "    </tr>\n",
       "    <tr>\n",
       "      <th>19</th>\n",
       "      <td>BE</td>\n",
       "      <td>50.503887</td>\n",
       "      <td>4.469936</td>\n",
       "      <td>Belgium</td>\n",
       "    </tr>\n",
       "    <tr>\n",
       "      <th>28</th>\n",
       "      <td>BR</td>\n",
       "      <td>-14.235004</td>\n",
       "      <td>-51.925280</td>\n",
       "      <td>Brazil</td>\n",
       "    </tr>\n",
       "    <tr>\n",
       "      <th>35</th>\n",
       "      <td>CA</td>\n",
       "      <td>56.130366</td>\n",
       "      <td>-106.346771</td>\n",
       "      <td>Canada</td>\n",
       "    </tr>\n",
       "    <tr>\n",
       "      <th>43</th>\n",
       "      <td>CL</td>\n",
       "      <td>-35.675147</td>\n",
       "      <td>-71.542969</td>\n",
       "      <td>Chile</td>\n",
       "    </tr>\n",
       "    <tr>\n",
       "      <th>45</th>\n",
       "      <td>CN</td>\n",
       "      <td>35.861660</td>\n",
       "      <td>104.195397</td>\n",
       "      <td>China</td>\n",
       "    </tr>\n",
       "    <tr>\n",
       "      <th>48</th>\n",
       "      <td>CU</td>\n",
       "      <td>21.521757</td>\n",
       "      <td>-77.781167</td>\n",
       "      <td>Cuba</td>\n",
       "    </tr>\n",
       "  </tbody>\n",
       "</table>\n",
       "</div>"
      ],
      "text/plain": [
       "   country   latitude   longitude        name\n",
       "10      AR -38.416097  -63.616672   Argentina\n",
       "13      AU -25.274398  133.775136   Australia\n",
       "12      AT  47.516231   14.550072     Austria\n",
       "18      BD  23.684994   90.356331  Bangladesh\n",
       "19      BE  50.503887    4.469936     Belgium\n",
       "28      BR -14.235004  -51.925280      Brazil\n",
       "35      CA  56.130366 -106.346771      Canada\n",
       "43      CL -35.675147  -71.542969       Chile\n",
       "45      CN  35.861660  104.195397       China\n",
       "48      CU  21.521757  -77.781167        Cuba"
      ]
     },
     "execution_count": 275,
     "metadata": {},
     "output_type": "execute_result"
    }
   ],
   "source": [
    "all_data.head(10)"
   ]
  },
  {
   "cell_type": "code",
   "execution_count": 276,
   "id": "3308552a-4afb-48b8-9be9-bf18ea2e11b9",
   "metadata": {},
   "outputs": [
    {
     "data": {
      "image/png": "[encoded data removed]",
      "text/plain": [
       "<Figure size 1296x864 with 2 Axes>"
      ]
     },
     "metadata": {
      "needs_background": "light"
     },
     "output_type": "display_data"
    }
   ],
   "source": [
    "# Representacion gráfica del mapa\n",
    "\n",
    "import matplotlib.pyplot as plt\n",
    "%matplotlib inline\n",
    "plt.scatter(all_data.longitude, all_data.latitude)\n",
    "plt.colorbar()\n",
    "\n",
    "# USA, UK, Brazil, China, Australia, Noruega; con ayuda del data set de la ubicación \n",
    "# geográfica de los países, seleccionamos las longitudes y latitudes de los países \n",
    "# de interés\n",
    "ard = dict(arrowstyle=\"->\")\n",
    "plt.annotate('USA', xy = (-95.712891, 37.09024), \n",
    "               xytext = (-95.712891, 40), arrowprops = ard)\n",
    "plt.annotate('UK', xy = (31.16558, 48.379433), \n",
    "               xytext = (31.16558, 51), arrowprops= ard)\n",
    "plt.annotate('Brazil', xy = (-51.92528, -14.235004), \n",
    "               xytext = (-51.92528, -11), arrowprops= ard)\n",
    "plt.annotate('China', xy = (104.195397, 35.86166), \n",
    "               xytext = (104.195397, 39), arrowprops= ard)\n",
    "plt.annotate('Australia', xy = (133.775136, -25.274398), \n",
    "               xytext = (133.775136, -22), arrowprops= ard)\n",
    "plt.annotate('Noruega', xy = (8.468946, 60.472024), \n",
    "               xytext = (8.468946, 63), arrowprops= ard)\n",
    "params = plt.gcf()\n",
    "plSize = params.get_size_inches()\n",
    "params.set_size_inches( (plSize[0] * 3, plSize[1] * 3) )\n",
    "plt.show()\n",
    "\n",
    "# Representacion grafica del map of science"
   ]
  },
  {
   "cell_type": "code",
   "execution_count": null,
   "id": "fe5a7301-6be1-4cfd-b130-ba656c79ee63",
   "metadata": {},
   "outputs": [],
   "source": []
  }
 ],
 "metadata": {
  "kernelspec": {
   "display_name": "Python 3 (ipykernel)",
   "language": "python",
   "name": "python3"
  },
  "language_info": {
   "codemirror_mode": {
    "name": "ipython",
    "version": 3
   },
   "file_extension": ".py",
   "mimetype": "text/x-python",
   "name": "python",
   "nbconvert_exporter": "python",
   "pygments_lexer": "ipython3",
   "version": "3.9.7"
  }
 },
 "nbformat": 4,
 "nbformat_minor": 5
}
